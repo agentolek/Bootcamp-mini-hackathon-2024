{
 "cells": [
  {
   "cell_type": "code",
   "execution_count": 2,
   "metadata": {},
   "outputs": [],
   "source": [
    "from read_data import create_frame\n",
    "from cosine_similarity import Clusterizer\n",
    "import numpy as np\n",
    "\n",
    "df = create_frame()"
   ]
  },
  {
   "cell_type": "markdown",
   "metadata": {},
   "source": [
    "In this notebook - calculate cosine similarity between different sequences and attempt to cluster according to that data.\n",
    "\n",
    "How will we cluster? \n",
    "1. Each sequence will have a vector showcasing its similarities to other sequences.\n",
    "2. We will look for sequences which are similar to a random one above a certain threshold, then remove them from the list.\n",
    "3. We will select sequences and create clusters around them until every single sequence belongs to a cluster."
   ]
  },
  {
   "cell_type": "code",
   "execution_count": 14,
   "metadata": {},
   "outputs": [
    {
     "name": "stdout",
     "output_type": "stream",
     "text": [
      "Created 65 clusters.\n",
      "['B.24.11', 'B.31.28', 'A.6', 'B.24.28.7', 'A.38', 'B.29.30.10', 'E.31.20', 'B.27.30']\n",
      "['A.1.16', 'C.29', 'A.36', 'B.24.28', 'A.6', 'G.29.52', 'B.24.11', 'B.27.30', 'A.38', 'B.29.23']\n",
      "['A.1.16', 'C.29', 'A.36', 'B.24.28', 'A.6', 'G.29.52', 'B.24.11', 'B.27.30', 'A.38', 'B.29.23.B.30']\n",
      "['A.1', 'B.24.11', 'B.27.30', 'B.29.30', 'B.24.10.7', 'A.36', 'A.6', 'H.24.28']\n",
      "['E.31.14.47', 'H.31.22', 'B.29.23.B.30', 'A.6', 'G.29.52', 'B.27.30', 'B.31.28', 'B.24.28']\n",
      "['B.24.28.10', 'A.1.16', 'A.44', 'B.27.30', 'A.38', 'A.11', 'G.29.30.52', 'B.31.21']\n",
      "['A.44', 'H.31.22', 'A.38', 'B.27.30', 'A.36', 'B.29.23.B.30', 'A.6', 'B.29.30', 'C.24.1', 'B.31.28', 'B.24.11', 'G.29.52']\n",
      "['B.29.23.B.30', 'A.1.16', 'A.44', 'A.38', 'G.29.52', 'B.24.11', 'B.27.30', 'A.36']\n",
      "['A.36', 'B.27.30', 'B.24.11', 'B.29.30', 'A.4', 'B.31.28', 'B.31.21', 'G.29.30.52', 'A.6', 'H.24.28']\n",
      "['G.29.30.52', 'B.24.11', 'B.27.30', 'A.1.16', 'A.6', 'E.17', 'B.27.30', 'A.12']\n",
      "['G.29.30.52', 'B.24.11', 'B.27.30', 'A.1.16', 'A.6', 'E.17', 'B.27.30', 'A.12']\n",
      "['A.38', 'B.29.35', 'A.6', 'G.29.52', 'H.31.22', 'A.36', 'B.27.30', 'B.24.11']\n",
      "['A.1.16', 'B.29.23.10', 'A.38', 'B.27.30', 'B.31.21', 'G.29.52', 'B.24.11', 'B.31.28.30']\n",
      "['B.27.30', 'A.38', 'G.29.52', 'B.31.21', 'B.29.30', 'A.6', 'B.31.28', 'B.24.28.10']\n",
      "['B.31.11', 'B.31.21', 'A.6', 'B.27.30', 'A.38', 'B.31.5', 'A.6', 'C.24.1', 'G.29.52', 'B.29.30']\n",
      "['B.24.11', 'B.29.25', 'A.12', 'E.17', 'B.24.25', 'G.29.30.52', 'B.27.30']\n",
      "['A.38', 'B.31.28', 'B.24.11', 'B.27.30', 'A.36', 'G.29.52', 'A.6', 'B.24.28']\n",
      "['A.38', 'C.24.1', 'B.24.11', 'B.27.30', 'A.36', 'G.29.52', 'A.6', 'B.31.21']\n",
      "['B.31.28', 'B.24.28.10', 'G.29.52', 'C.27', 'A.6', 'A.38', 'B.27.30', 'A.1.16']\n",
      "['B.24.28', 'B.24.11', 'G.29.30.52', 'A.12', 'B.29.30.10', 'B.24.28.10', 'B.27.30', 'A.36']\n",
      "['A.36', 'B.31.28', 'B.24.11', 'G.29.52', 'A.38', 'B.27.30', 'A.6', 'B.29.23.B.30']\n",
      "['G.29.52', 'B.24.11', 'B.24.28.7', 'B.24.11', 'B.29.30', 'B.31.21', 'C.24.1']\n",
      "['A.36', 'B.29.23', 'A.38', 'B.27.30', 'B.24.28', 'A.6', 'G.29.52', 'B.24.11', 'B.31.28']\n",
      "['A.38', 'B.31.21', 'B.27.30', 'E.17', 'B.31.28', 'A.36', 'B.24.28.10', 'B.29.30']\n",
      "['G.29.30.52', 'B.24.11', 'B.29.23.B.30', 'A.6', 'B.24.28', 'C.24.1', 'B.27.30', 'C.24']\n",
      "['B.31.21', 'B.27.30', 'A.4', 'B.24.28.7', 'B.31.21', 'B.29.30', 'A.6', 'G.29.30.52', 'B.24.28.30.7', 'A.6', 'B.29.30']\n",
      "['A.1.16', 'B.31.28', 'A.13', 'G.29.52', 'B.24.11', 'B.27.30', 'A.6', 'B.29.30']\n",
      "['A.38', 'B.27.30', 'B.24.11', 'B.31.28', 'A.6', 'E.31.28.47', 'G.29.52', 'B.31.21']\n",
      "['B.27.30', 'B.24.11', 'B.29.30', 'A.6']\n",
      "['A.6', 'G.29.52', 'A.38', 'B.27.30']\n",
      "['G.H.29.52', 'A.38', 'B.27.30', 'B.24.11']\n",
      "['G.29.52', 'A.18', 'E.31.28.47', 'B.31.21.R', 'B.27.30', 'B.24.28', 'A.6', 'A.36']\n",
      "['A.243', 'G.29.52', 'A.18', 'B.24.28', 'B.27.30', 'B.29.30', 'A.6', 'B.24.11', 'A.1.16', 'G.29.52', 'B.27.30']\n",
      "['B.24.11', 'B.27.30', 'A.36', 'B.31.28']\n",
      "['A.242', 'E.31.28.47', 'B.31.21', 'B.29.30', 'A.6', 'G.29.52', 'A.38', 'B.24.28.7']\n",
      "['B.24.28.7', 'A.244', 'E.31.28.47', 'B.31.21', 'B.29.30', 'A.6', 'G.29.52', 'A.38']\n",
      "['B.29.23.B.30', 'B.24.11', 'B.27.30', 'A.6']\n",
      "['K.102.51', 'A.38', 'B.24.11', 'B.31.28', 'E.31.22', 'B.24.10', 'B.29.30', 'B.31.11', 'G.29.52', 'A.6', 'B.24.11', '0', '0']\n",
      "['B.24.11', 'G.29.52', 'E.17', 'B.29.30', 'A.6']\n",
      "['A.6', 'B.24.11', 'G.29.52', 'E.17', 'B.29.30']\n",
      "['G.29.52', 'E.17', 'B.29.30', 'A.6', 'B.24.11']\n",
      "['B.24.11', 'B.24.28', 'A.13', 'K.103.53', 'B.27.30', 'A.36', 'B.24.11.7', 'A.6', 'B.29.23']\n",
      "['B.29.23', 'B.24.11', 'B.24.28', 'A.13', 'K.103.53', 'B.27.30', 'A.36', 'B.24.11.7', 'A.6']\n",
      "['B.24.28', 'A.13', 'K.103.53', 'B.27.30', 'A.36', 'B.24.11.7', 'A.6', 'B.29.23', 'B.24.11']\n"
     ]
    }
   ],
   "source": [
    "clus = Clusterizer(df[\"sequence_values\"], df)\n",
    "clus.threshold_value = 0.5\n",
    "clus.sim_func = clus.cosine_sim\n",
    "\n",
    "# WARNING - clusters are currently created by selecting random descriptive elements!!!\n",
    "clus.clusterize()\n",
    "\n",
    "# sort clusters according to size\n",
    "my_cl = clus.clusters\n",
    "my_cl.sort(reverse=True, key= lambda x: len(x))\n",
    "\n",
    "for elem in my_cl[0]:\n",
    "    print(elem)"
   ]
  }
 ],
 "metadata": {
  "kernelspec": {
   "display_name": ".venv",
   "language": "python",
   "name": "python3"
  },
  "language_info": {
   "codemirror_mode": {
    "name": "ipython",
    "version": 3
   },
   "file_extension": ".py",
   "mimetype": "text/x-python",
   "name": "python",
   "nbconvert_exporter": "python",
   "pygments_lexer": "ipython3",
   "version": "3.10.12"
  }
 },
 "nbformat": 4,
 "nbformat_minor": 2
}
