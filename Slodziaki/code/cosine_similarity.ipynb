{
 "cells": [
  {
   "cell_type": "code",
   "execution_count": 1,
   "metadata": {},
   "outputs": [],
   "source": [
    "from read_data import create_frame\n",
    "from cosine_similarity import Clusterizer\n",
    "import numpy as np\n",
    "\n",
    "df = create_frame()"
   ]
  },
  {
   "cell_type": "markdown",
   "metadata": {},
   "source": [
    "In this notebook - calculate cosine similarity between different sequences and attempt to cluster according to that data.\n",
    "\n",
    "How will we cluster? \n",
    "1. Each sequence will have a vector showcasing its similarities to other sequences.\n",
    "2. We will look for sequences which are similar to a random one above a certain threshold, then remove them from the list.\n",
    "3. We will select sequences and create clusters around them until every single sequence belongs to a cluster."
   ]
  },
  {
   "cell_type": "code",
   "execution_count": 17,
   "metadata": {},
   "outputs": [
    {
     "name": "stdout",
     "output_type": "stream",
     "text": [
      "Created 94 clusters.\n",
      "[['G.H.29.52', 'C.24.1', 'G.H.29.52', 'C.24.1'], ['B.31.28.B.32', 'B.29.30.10', 'C.24.1', 'B.31.28.30.B.25', 'A.17', 'B.31.28.B.32', 'B.29.30.10', 'C.24.1', 'B.31.28.B.25', 'B.31.23.23.B.25.8'], ['A.44', 'B.29.25', 'A.44', 'B.29.25'], ['C.24.1', 'E.31.14', 'A.36', 'C.24.1', 'E.31.14', 'A.36'], ['A.245', 'C.24.1', 'A.245', 'C.24.1'], ['C.24.1', 'E.17', 'B.24.28.R', 'C.24.1', 'E.17', 'B.24.28.R', 'C.24.1', 'E.17', 'B.24.28.R'], ['E.17', 'B.24.28', 'C.24.1', 'B.29.23.B.30', 'A.19', 'B.24.28', 'C.24.1', 'B.29.23'], ['B.24.28', 'C.24.1', 'B.29.23.B.30', 'A.19', 'B.24.28', 'C.24.1', 'B.29.23', 'E.17'], ['C.24.1', 'B.24.28', 'A.1.3', 'A.37', 'B.24.28', 'C.24.1'], ['B.31.25.B.28.30', 'B.29.25', 'C.24.1', 'A.2.17', 'B.27.30', 'E.17.3', 'H.24.28', 'B.27.30', 'A.2.17', 'C.24.1', 'B.29.25'], ['B.29.25', 'C.24.1', 'A.2.17', 'B.27.30', 'E.17.3', 'H.24.28', 'B.27.30', 'A.2.17', 'C.24.1', 'B.29.25', 'B.31.25.B.28.30'], ['A.17.47', 'C.24.1', 'B.29.30.B.25', 'A.37', 'A.19.R', 'B.24.28.R', 'E.17.47', 'C.24.1', 'A.37', 'B.29.30.B.25', 'B.24.28.R'], ['C.24.1', 'B.29.25.B.30', 'A.37', 'A.19.R', 'B.24.28.R', 'E.17.47', 'C.24.1', 'A.37', 'B.29.25.B.30', 'B.24.28.R', 'A.17.47'], ['C.24.1', 'B.50.10', 'B.24.28.30', 'A.17', '0', '?', 'C.24', '0', 'C.24.28', '?', 'A.37', 'B.31.25', 'A.19', 'A.18.17', 'B.31.25', 'B.29.25'], ['B.50.10', 'B.24.28.30', 'A.17', '0', '0', 'C.24.15', 'B.31.21', 'C.24.28', '0', 'A.37', 'B.24.25', 'A.19.10', 'A.18.47', 'B.24.25', 'B.29.25', 'C.24.1'], ['A.17', 'H.24.28.7', 'C.24.2', 'G.29.30.52', 'B.24.12', 'B.29.25', 'A.17', 'H.24.28.7', 'C.24.2', 'G.29.30.52', 'B.24.12', 'B.29.25'], ['B.31.28.B.32', 'A.38', 'A.1.48', 'B.24.25', 'B.31.28.B.32', 'A.38', 'A.1.48', 'B.31.28.B.25', 'C.24.1', 'B.24.25', 'A.1.48', 'B.31.28.B.32', 'C.24.1', 'B.24.25', 'A.1.48', 'B.31.28.B.25'], ['A.37', 'B.29.25', 'A.37', 'B.29.25', 'A.37', 'B.29.25', 'A.37', 'B.29.25', 'A.37', 'B.29.25'], ['E.31.47', 'B.29.25', 'A.19', 'B.31.25', 'E.31.47', 'B.29.25', 'A.19', 'E.31.113', 'E.31.47', 'A.37', 'A.19', 'B.31.25', 'A.17', 'B.29.25', 'A.19', 'E.31.113'], ['B.29.25', 'A.19', 'B.31.25', 'A.17', 'B.29.25', 'A.19', 'E.31.113', 'A.17', 'B.29.25', 'B.29.25', 'B.31.25', 'A.17', 'B.29.25', 'A.19', 'E.31.113', 'A.17']]\n"
     ]
    }
   ],
   "source": [
    "clus = Clusterizer(df[\"sequence_values\"], df)\n",
    "clus.threshold_value = 2\n",
    "clus.sim_func = clus.same_symbols_sum\n",
    "\n",
    "# WARNING - clusters are currently created by selecting random descriptive elements!!!\n",
    "clus.clusterize()\n",
    "print(clus.clusters[0])\n",
    "pass"
   ]
  }
 ],
 "metadata": {
  "kernelspec": {
   "display_name": ".venv",
   "language": "python",
   "name": "python3"
  },
  "language_info": {
   "codemirror_mode": {
    "name": "ipython",
    "version": 3
   },
   "file_extension": ".py",
   "mimetype": "text/x-python",
   "name": "python",
   "nbconvert_exporter": "python",
   "pygments_lexer": "ipython3",
   "version": "3.10.12"
  }
 },
 "nbformat": 4,
 "nbformat_minor": 2
}
